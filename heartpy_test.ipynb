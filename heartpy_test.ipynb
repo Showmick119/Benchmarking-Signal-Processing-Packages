{
 "cells": [
  {
   "cell_type": "code",
   "execution_count": 5,
   "id": "26322b0d",
   "metadata": {},
   "outputs": [
    {
     "ename": "KeyError",
     "evalue": "'filtered'",
     "output_type": "error",
     "traceback": [
      "\u001b[1;31m---------------------------------------------------------------------------\u001b[0m",
      "\u001b[1;31mKeyError\u001b[0m                                  Traceback (most recent call last)",
      "Cell \u001b[1;32mIn[5], line 21\u001b[0m\n\u001b[0;32m     19\u001b[0m \u001b[38;5;66;03m# HeartPy filters (run process and extract smoothed signal)\u001b[39;00m\n\u001b[0;32m     20\u001b[0m working_data, measures \u001b[38;5;241m=\u001b[39m hp\u001b[38;5;241m.\u001b[39mprocess(ppg_noisy, sample_rate\u001b[38;5;241m=\u001b[39mfs, calc_freq\u001b[38;5;241m=\u001b[39m\u001b[38;5;28;01mFalse\u001b[39;00m)\n\u001b[1;32m---> 21\u001b[0m hp_filtered \u001b[38;5;241m=\u001b[39m \u001b[43mworking_data\u001b[49m\u001b[43m[\u001b[49m\u001b[38;5;124;43m'\u001b[39;49m\u001b[38;5;124;43mfiltered\u001b[39;49m\u001b[38;5;124;43m'\u001b[39;49m\u001b[43m]\u001b[49m\n\u001b[0;32m     23\u001b[0m plt\u001b[38;5;241m.\u001b[39mfigure(figsize\u001b[38;5;241m=\u001b[39m(\u001b[38;5;241m14\u001b[39m, \u001b[38;5;241m6\u001b[39m))\n\u001b[0;32m     24\u001b[0m plt\u001b[38;5;241m.\u001b[39mplot(t, ppg_noisy, label\u001b[38;5;241m=\u001b[39m\u001b[38;5;124m'\u001b[39m\u001b[38;5;124mNoisy Signal\u001b[39m\u001b[38;5;124m'\u001b[39m, color\u001b[38;5;241m=\u001b[39m\u001b[38;5;124m'\u001b[39m\u001b[38;5;124mgray\u001b[39m\u001b[38;5;124m'\u001b[39m, alpha\u001b[38;5;241m=\u001b[39m\u001b[38;5;241m0.5\u001b[39m)\n",
      "\u001b[1;31mKeyError\u001b[0m: 'filtered'"
     ]
    }
   ],
   "source": [
    "# PPG Signal Filtering: FIR and IIR Filter Comparison using HeartPy\n",
    "\n",
    "import numpy as np\n",
    "import matplotlib.pyplot as plt\n",
    "import pandas as pd\n",
    "import heartpy as hp\n",
    "from sklearn.metrics import mean_squared_error\n",
    "\n",
    "# Sampling rate and time axis\n",
    "fs = 100\n",
    "T = 10  # seconds\n",
    "t = np.linspace(0, T, fs * T)\n",
    "\n",
    "# Clean synthetic PPG signal\n",
    "ppg_clean = 0.6 * np.sin(2 * np.pi * 1.2 * t) + 0.3 * np.sin(2 * np.pi * 2.4 * t)\n",
    "noise = 0.3 * np.random.randn(len(t))\n",
    "ppg_noisy = ppg_clean + noise\n",
    "\n",
    "# HeartPy filters (run process and extract smoothed signal)\n",
    "working_data, measures = hp.process(ppg_noisy, sample_rate=fs, calc_freq=False)\n",
    "hp_filtered = working_data['filtered']\n",
    "\n",
    "plt.figure(figsize=(14, 6))\n",
    "plt.plot(t, ppg_noisy, label='Noisy Signal', color='gray', alpha=0.5)\n",
    "plt.plot(t, hp_filtered, label='HeartPy Filtered Signal', color='blue', linewidth=1)\n",
    "plt.plot(t, ppg_clean, label='Clean Signal', linestyle='--', linewidth=1)\n",
    "plt.legend()\n",
    "plt.title('HeartPy Filtered Signal vs Noisy and Clean PPG')\n",
    "plt.xlabel('Time (s)')\n",
    "plt.ylabel('Amplitude')\n",
    "plt.grid(True)\n",
    "plt.tight_layout()\n",
    "plt.show()"
   ]
  }
 ],
 "metadata": {
  "kernelspec": {
   "display_name": "Python 3",
   "language": "python",
   "name": "python3"
  },
  "language_info": {
   "codemirror_mode": {
    "name": "ipython",
    "version": 3
   },
   "file_extension": ".py",
   "mimetype": "text/x-python",
   "name": "python",
   "nbconvert_exporter": "python",
   "pygments_lexer": "ipython3",
   "version": "3.12.9"
  }
 },
 "nbformat": 4,
 "nbformat_minor": 5
}
