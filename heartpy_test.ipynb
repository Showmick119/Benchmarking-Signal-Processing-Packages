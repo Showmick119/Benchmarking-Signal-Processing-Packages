# PPG Signal Filtering: FIR and IIR Filter Comparison using HeartPy

import numpy as np
import matplotlib.pyplot as plt
import pandas as pd
import heartpy as hp
from sklearn.metrics import mean_squared_error

# Sampling rate and time axis
fs = 100
T = 10  # seconds
t = np.linspace(0, T, fs * T)

# Clean synthetic PPG signal
ppg_clean = 0.6 * np.sin(2 * np.pi * 1.2 * t) + 0.3 * np.sin(2 * np.pi * 2.4 * t)
noise = 0.3 * np.random.randn(len(t))
ppg_noisy = ppg_clean + noise

# HeartPy filters (run process and extract smoothed signal)
working_data, measures = hp.process(ppg_noisy, sample_rate=fs, calc_freq=False)
hp_filtered = working_data['filtered']

plt.figure(figsize=(14, 6))
plt.plot(t, ppg_noisy, label='Noisy Signal', color='gray', alpha=0.5)
plt.plot(t, hp_filtered, label='HeartPy Filtered Signal', color='blue', linewidth=1)
plt.plot(t, ppg_clean, label='Clean Signal', linestyle='--', linewidth=1)
plt.legend()
plt.title('HeartPy Filtered Signal vs Noisy and Clean PPG')
plt.xlabel('Time (s)')
plt.ylabel('Amplitude')
plt.grid(True)
plt.tight_layout()
plt.show()
