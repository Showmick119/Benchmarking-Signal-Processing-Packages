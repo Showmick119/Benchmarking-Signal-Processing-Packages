{
 "cells": [
  {
   "cell_type": "code",
   "execution_count": 1,
   "id": "a4f493c2",
   "metadata": {},
   "outputs": [],
   "source": [
    "import pandas as pd\n",
    "import numpy as np"
   ]
  },
  {
   "cell_type": "markdown",
   "id": "d61b5762",
   "metadata": {},
   "source": [
    "## **Tasks**\n",
    "- Plot the ECG and PPG data\n",
    "- Calculate the Standard Deviation of the RRIs (the time interval in milliseconds, between successsive R-wave peaks) (in the polarHRM.csv)\n",
    "- Try some of the processing techniques, like IIR and FIR filters, bandpass filtering, etc\n",
    "- Find peaks within the signal"
   ]
  },
  {
   "cell_type": "markdown",
   "id": "a48f283b",
   "metadata": {},
   "source": [
    "### **Load Bangle Data**"
   ]
  },
  {
   "cell_type": "code",
   "execution_count": 3,
   "id": "1e7c022a",
   "metadata": {},
   "outputs": [
    {
     "name": "stdout",
     "output_type": "stream",
     "text": [
      "    timestamp_ms  value\n",
      "0  1724074011462   4334\n",
      "1  1724074011481   4286\n",
      "2  1724074011501   4222\n",
      "3  1724074011520   4174\n",
      "4  1724074011540   4094\n"
     ]
    }
   ],
   "source": [
    "bangle_data = pd.read_csv(\"HRV-data/bangle.csv\")\n",
    "print(bangle_data.head())"
   ]
  },
  {
   "cell_type": "markdown",
   "id": "94675b4d",
   "metadata": {},
   "source": [
    "### **Load Polar Data**"
   ]
  },
  {
   "cell_type": "code",
   "execution_count": 4,
   "id": "88bae4b0",
   "metadata": {},
   "outputs": [
    {
     "name": "stdout",
     "output_type": "stream",
     "text": [
      "   timestamp_ms  value\n",
      "0  5.996162e+11     19\n",
      "1  5.996162e+11     19\n",
      "2  5.996162e+11     16\n",
      "3  5.996162e+11     21\n",
      "4  5.996162e+11     30\n"
     ]
    }
   ],
   "source": [
    "polar_data = pd.read_csv(\"HRV-data/polar.csv\")\n",
    "print(polar_data.head())"
   ]
  },
  {
   "cell_type": "markdown",
   "id": "a72e8c08",
   "metadata": {},
   "source": [
    "### **Load PolarHRM Data**"
   ]
  },
  {
   "cell_type": "code",
   "execution_count": 5,
   "id": "12cfc77b",
   "metadata": {},
   "outputs": [
    {
     "name": "stdout",
     "output_type": "stream",
     "text": [
      "    timestamp_ms  value        rris\n",
      "0  1724074012500     65  880.859375\n",
      "1  1724074013491     65  873.046875\n",
      "2  1724074014481     65  962.890625\n",
      "3  1724074015516     65  981.445312\n",
      "4  1724074016506     65  975.585938\n"
     ]
    }
   ],
   "source": [
    "polarHRM_data = pd.read_csv(\"HRV-data/polarHRM.csv\")\n",
    "print(polarHRM_data.head())"
   ]
  },
  {
   "cell_type": "markdown",
   "id": "1571b22b",
   "metadata": {},
   "source": [
    "**Note:**\n",
    "- Issue with polarHRM.csv, as it had 4 columns/features for some of data samples (rows), which was causing errors when loading the data. \n",
    "- Why is this the case? As we should identify the issue, as it could lead to problems when working with larger datasets, as this one is only a 2 minute reading.\n",
    "- I've manually fixed it for now, by editing that 4th column on the CSV file. But we should still identify the root of the issue, and why it is happening."
   ]
  }
 ],
 "metadata": {
  "kernelspec": {
   "display_name": "Python 3",
   "language": "python",
   "name": "python3"
  },
  "language_info": {
   "codemirror_mode": {
    "name": "ipython",
    "version": 3
   },
   "file_extension": ".py",
   "mimetype": "text/x-python",
   "name": "python",
   "nbconvert_exporter": "python",
   "pygments_lexer": "ipython3",
   "version": "3.12.9"
  }
 },
 "nbformat": 4,
 "nbformat_minor": 5
}
