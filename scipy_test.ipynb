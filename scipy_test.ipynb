{
 "cells": [
  {
   "cell_type": "code",
   "execution_count": null,
   "id": "ed12888e",
   "metadata": {},
   "outputs": [],
   "source": [
    "from scipy.signal import butter, filtfilt"
   ]
  }
 ],
 "metadata": {
  "language_info": {
   "name": "python"
  }
 },
 "nbformat": 4,
 "nbformat_minor": 5
}
