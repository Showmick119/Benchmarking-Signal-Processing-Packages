{
 "cells": [
  {
   "cell_type": "code",
   "execution_count": null,
   "id": "ed12888e",
   "metadata": {},
   "outputs": [],
   "source": [
    "from scipy.signal import butter, filtfilt"
   ]
  },
  {
   "cell_type": "code",
   "execution_count": null,
   "id": "41d4f952",
   "metadata": {},
   "outputs": [],
   "source": [
    "def bandpass_filter(signal, fs, lowcut=0.5, highcut=5.0, order=2):\n",
    "    nyq = 0.5 * fs\n",
    "    b, a = butter(order, [lowcut / nyq, highcut / nyq], btype='band')\n",
    "    return filtfilt(b, a, signal)"
   ]
  }
 ],
 "metadata": {
  "language_info": {
   "name": "python"
  }
 },
 "nbformat": 4,
 "nbformat_minor": 5
}
