{
 "cells": [
  {
   "cell_type": "code",
   "execution_count": null,
   "id": "bd4d553a",
   "metadata": {},
   "outputs": [],
   "source": [
    "# 4) IBIs from your Bangle PPG peaks, then compare to PolarHRM\n",
    "import numpy as np\n",
    "\n",
    "# 4a) Convert peak indices to times (s) and then to IBIs (ms)\n",
    "t_sec = bangle_data[\"timestamp_ms\"].to_numpy() / 1000.0\n",
    "peak_times = t_sec[peaks]\n",
    "ibi_ppg = np.diff(peak_times) * 1000  # IBI in ms\n",
    "\n",
    "# 4b) Basic stats on PPG IBIs\n",
    "sdnn_ppg  = np.std(ibi_ppg,  ddof=1)\n",
    "rmssd_ppg = np.sqrt(np.mean(np.diff(ibi_ppg)**2))\n",
    "pnn50_ppg = np.sum(np.abs(np.diff(ibi_ppg)) > 50) / len(ibi_ppg) * 100\n",
    "\n",
    "print(f\"PPG-IBI SDNN: {sdnn_ppg:.2f} ms\")\n",
    "print(f\"PPG-IBI RMSSD: {rmssd_ppg:.2f} ms\")\n",
    "print(f\"PPG-IBI pNN50: {pnn50_ppg:.2f} %\")\n",
    "\n",
    "# 4c) Side-by-side comparison to PolarHRM\n",
    "print(f\"Polar-HRM  SDNN: {np.std(rr, ddof=1):.2f} ms\")\n",
    "print(f\"Polar-HRM  RMSSD: {rmssd:.2f} ms\")\n",
    "print(f\"Polar-HRM  pNN50: {pnn50:.2f} %\")"
   ]
  },
  {
   "cell_type": "code",
   "execution_count": null,
   "id": "d6375b05",
   "metadata": {},
   "outputs": [],
   "source": [
    "# 5) PSD of interpolated RR series (Welch’s method)\n",
    "import scipy.integrate\n",
    "from scipy.signal import welch\n",
    "\n",
    "# 5a) Interpolate uneven IBIs to a uniform 4 Hz grid\n",
    "t_rr     = np.cumsum(rris) / 1000.0              # Polar timebase (s)\n",
    "t_uniform = np.arange(t_rr[0], t_rr[-1], 1/4)  # 4 Hz\n",
    "rr_interp = np.interp(t_uniform, t_rr, rris)\n",
    "\n",
    "# 5b) Compute PSD\n",
    "f, psd = welch(rr_interp, fs=4.0, nperseg=256)\n",
    "\n",
    "# 5c) Integrate LF (0.04–0.15 Hz) & HF (0.15–0.4 Hz)\n",
    "lf_mask = (f >= 0.04) & (f < 0.15)\n",
    "hf_mask = (f >= 0.15) & (f < 0.4)\n",
    "lf_power = scipy.integrate.trapezoid(psd[lf_mask], f[lf_mask])\n",
    "hf_power = scipy.integrate.trapezoid(psd[hf_mask], f[hf_mask])\n",
    "\n",
    "print(f\"LF power (0.04–0.15 Hz): {lf_power:.1f}\")\n",
    "print(f\"HF power (0.15–0.4 Hz): {hf_power:.1f}\")\n",
    "print(f\"LF/HF ratio:      {lf_power/hf_power:.2f}\")"
   ]
  },
  {
   "cell_type": "code",
   "execution_count": null,
   "id": "e182a64e",
   "metadata": {},
   "outputs": [],
   "source": [
    "# 6) Poincaré plot and SD1/SD2\n",
    "import matplotlib.pyplot as plt\n",
    "\n",
    "# 6a) Build scatter of successive IBIs\n",
    "x = ibi_ppg[:-1]\n",
    "y = ibi_ppg[1:]\n",
    "\n",
    "plt.figure(figsize=(5,5))\n",
    "plt.scatter(x, y, s=10, alpha=0.6)\n",
    "plt.title(\"Poincaré Plot (IBIₙ vs. IBIₙ₊₁)\")\n",
    "plt.xlabel(\"IBIₙ (ms)\")\n",
    "plt.ylabel(\"IBIₙ₊₁ (ms)\")\n",
    "plt.axis('equal')\n",
    "plt.show()\n",
    "\n",
    "# 6b) Compute SD1 & SD2\n",
    "diffs = y - x\n",
    "sd1 = np.sqrt(np.var(diffs) / 2)\n",
    "sd2 = np.sqrt(2*np.var(ibi_ppg) - np.var(diffs) / 2)\n",
    "\n",
    "print(f\"SD1 (short-term variability): {sd1:.2f} ms\")\n",
    "print(f\"SD2 (long-term variability):  {sd2:.2f} ms\")\n",
    "print(f\"SD1/SD2 ratio:                {sd1/sd2:.2f}\")"
   ]
  }
 ],
 "metadata": {
  "language_info": {
   "name": "python"
  }
 },
 "nbformat": 4,
 "nbformat_minor": 5
}
